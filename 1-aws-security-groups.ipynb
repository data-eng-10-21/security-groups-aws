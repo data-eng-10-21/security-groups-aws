{
 "cells": [
  {
   "cell_type": "markdown",
   "metadata": {},
   "source": [
    "# AWS Security Groups"
   ]
  },
  {
   "cell_type": "markdown",
   "metadata": {},
   "source": [
    "### Introduction"
   ]
  },
  {
   "cell_type": "markdown",
   "metadata": {},
   "source": [
    "Now so far we have set up both our AWS EC2 instance, and the related database.  But remember that our RDS instance is accessible from any computer.  This is probably not a great idea. \n",
    "\n",
    "In the coming lessons, we'll make our database more secure.  But first, let's take a step back and learn a little bit more about security in AWS in general. \n",
    "\n",
    "As we'll see, when we setup our AWS resources, our resources are segmented off from other AWS users through a **Virtual Private Cloud** (VPC).  And within this Virtual Private Cloud, we'll make use of **security groups** so that we can further configure how outside resources can access each of our resources.  Ok, let's get started."
   ]
  },
  {
   "cell_type": "markdown",
   "metadata": {},
   "source": [
    "### AWS Virtual Private Cloud"
   ]
  },
  {
   "cell_type": "markdown",
   "metadata": {},
   "source": [
    "Remember that when we launch an AWS resource like an EC2 machine, we are working in a cloud environment where physical resources are made available to various AWS customers.  To secure a level of privacy for it's customers, AWS segments it's virtual infrastructure through a virtual private cloud.  \n",
    "\n",
    "> In the diagram below we can see that we have three VPCs for three separate organizations."
   ]
  },
  {
   "cell_type": "markdown",
   "metadata": {},
   "source": [
    "<img src=\"./vcp_solo.png\" width=\"40%\">"
   ]
  },
  {
   "cell_type": "markdown",
   "metadata": {},
   "source": [
    "Above, we are looking at one specific AWS Region -- US East 1, which references a collection of computers loccated in Northern Virginia.  Each user or organization that signed up for resources in US East 1, has it's AWS resources segmented off in it's own virtual private cloud. \n",
    "\n",
    "One way to think about it is like an apartment building.  Everyone lives in the same complex, but each unit's property is still secured under a separate lock and key.\n",
    "\n",
    "Let's see another description from Wikipedia."
   ]
  },
  {
   "cell_type": "markdown",
   "metadata": {},
   "source": [
    "\n",
    "> A virtual private cloud (VPC) is an on-demand configurable pool of shared computing resources allocated within a public cloud environment, providing a certain level of isolation between the different organizations (denoted as users hereafter) using the resources. \n",
    "\n",
    "> The isolation between one VPC user and all other users of the same cloud (other VPC users as well as other public cloud users) is achieved normally through allocation of a private IP subnet and a virtual communication construct....\n",
    "\n",
    "> ...Providing isolation within the cloud, is accompanied with a VPN function (again, allocated per VPC user) that secures, by means of authentication and encryption, the remote access of the organization to its VPC resources. With the introduction of the described isolation levels, an organization using this service is in effect working on a 'virtually private' cloud (that is, as if the cloud infrastructure is not shared with other users), and hence the name VPC.\n",
    "\n",
    "> [Wikipedia Virtual Private Cloud](https://en.wikipedia.org/wiki/Virtual_private_cloud)\n",
    "\n",
    "So our virtual private cloud (VPC) gives us our own set of AWS resources that are protected being used by other AWS users."
   ]
  },
  {
   "cell_type": "markdown",
   "metadata": {},
   "source": [
    "### Creating a Security Group"
   ]
  },
  {
   "cell_type": "markdown",
   "metadata": {},
   "source": [
    "Now within our virtual private cloud, we can place a firewall in front of each resource.  This firewall restricts access to our resources.  For example, throug the firewall we can specify both ports that are accessible, and who these ports are accessible to.  As we know, this firewall, is called our security group.  \n",
    "\n",
    "> Remember, this is what we specified when we set up our AWS machine."
   ]
  },
  {
   "cell_type": "markdown",
   "metadata": {},
   "source": [
    "<img src=\"./ssh-ip-address.png\" width=\"100%\">"
   ]
  },
  {
   "cell_type": "markdown",
   "metadata": {},
   "source": [
    "And we can apply the same rules to multiple resources.  For example, take a look at the diagram below."
   ]
  },
  {
   "cell_type": "markdown",
   "metadata": {},
   "source": [
    "<img src=\"./vpc_ec2_machines.png\" width=\"60%\">"
   ]
  },
  {
   "cell_type": "markdown",
   "metadata": {},
   "source": [
    "So above we have two different security groups.  And each AWS resource belongs to one of those two groups.  So Security Group 1, may have rules that allow EC2 machines to be accessed via SSH.  While under Security Group 2, the EC2 machines can also be accessed via HTTP."
   ]
  },
  {
   "cell_type": "markdown",
   "metadata": {},
   "source": [
    "### Viewing Security in Amazon"
   ]
  },
  {
   "cell_type": "markdown",
   "metadata": {},
   "source": [
    "Now if we take another look at the security settings for an EC2, we can see that we specify all of this information (and more) when setting up our EC2 instance in Amazon.  Let's take a look, and then unpack it."
   ]
  },
  {
   "cell_type": "markdown",
   "metadata": {},
   "source": [
    "<img src=\"./security-group-small.png\" width=\"60%\">"
   ]
  },
  {
   "cell_type": "markdown",
   "metadata": {},
   "source": [
    "* **VPC** \n",
    "\n",
    "Let's start with the VPC, which is in the third field from the top.  We can see that when we create our EC2 instance, the VPC is already selected for us.  This is the VPC we are given to us when we created our account.  \n",
    "> By default we are only given one VPC for all of our resources in a specific AWS region, but we can create more."
   ]
  },
  {
   "cell_type": "markdown",
   "metadata": {},
   "source": [
    "* **Security Group** "
   ]
  },
  {
   "cell_type": "markdown",
   "metadata": {},
   "source": [
    "Then, in the first field, we see the name of the security group we are creating or specifying inside of that VPC."
   ]
  },
  {
   "cell_type": "markdown",
   "metadata": {},
   "source": [
    "* **Security Group Rules**\n",
    "\n",
    "Next comes Security Group rules.  Remember that here we specify how computers can connect to our machines.  In this example, we are allowing for SSH, HTTP, and HTTPS access.  There is different ports for each type of access.  (These are the conventional ports for each type of access).  "
   ]
  },
  {
   "cell_type": "markdown",
   "metadata": {},
   "source": [
    "And notice that each of the rules we are creating are *inbound* -- so this specifies who can make requests into our machine, either via HTTP or SSH.  And by default AWS, allows outgoing responses to any machine (say if we wanted to make a request to an external API)."
   ]
  },
  {
   "cell_type": "markdown",
   "metadata": {},
   "source": [
    "### Summary"
   ]
  },
  {
   "cell_type": "markdown",
   "metadata": {},
   "source": [
    "In this lesson we learned about the virtual private cloud and seecurity groups in AWS."
   ]
  },
  {
   "cell_type": "markdown",
   "metadata": {},
   "source": [
    "<img src=\"./vpc_ec2_machines.png\" width=\"40%\">"
   ]
  },
  {
   "cell_type": "markdown",
   "metadata": {},
   "source": [
    "The VPC segments off our AWS resources from other AWS cloud users.  This is similar to how in an apartment building, each individual unit is segmented and secured under lock and key.\n",
    "\n",
    "In our virtual cloud we can have one or more security groups which specify how other computers can access our EC2 machines -- through SSH, HTTP, or HTTPS access.  And we can also specify the ip addresses or networks of those computers who can access the machines.  \n",
    "\n",
    "These security groups are our firewalls, and there is at least one security group applied to each EC2 instance."
   ]
  },
  {
   "cell_type": "markdown",
   "metadata": {},
   "source": [
    "### Resources\n",
    "\n",
    "[AWS VPC Security Group](https://docs.aws.amazon.com/vpc/latest/userguide/VPC_SecurityGroups.html)"
   ]
  }
 ],
 "metadata": {
  "kernelspec": {
   "display_name": "Python 3",
   "language": "python",
   "name": "python3"
  },
  "language_info": {
   "codemirror_mode": {
    "name": "ipython",
    "version": 3
   },
   "file_extension": ".py",
   "mimetype": "text/x-python",
   "name": "python",
   "nbconvert_exporter": "python",
   "pygments_lexer": "ipython3",
   "version": "3.8.6"
  }
 },
 "nbformat": 4,
 "nbformat_minor": 4
}
