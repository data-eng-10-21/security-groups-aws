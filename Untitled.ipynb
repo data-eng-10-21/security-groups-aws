{
 "cells": [
  {
   "cell_type": "code",
   "execution_count": null,
   "metadata": {},
   "outputs": [],
   "source": []
  },
  {
   "cell_type": "markdown",
   "metadata": {},
   "source": [
    "### A Bit Deeper on Access"
   ]
  },
  {
   "cell_type": "markdown",
   "metadata": {},
   "source": [
    "Now as we know, the source parameter of all zeros allows a computer from any ip address to access our computer.  We could also restrict this to just a specific ip address.  For example, what if we wanted to just allow access from our ip address."
   ]
  },
  {
   "cell_type": "markdown",
   "metadata": {},
   "source": [
    "Now we first view our `ip address` by typing `ipconfig getifaddr en0` into our terminal."
   ]
  },
  {
   "cell_type": "code",
   "execution_count": 2,
   "metadata": {},
   "outputs": [
    {
     "name": "stdout",
     "output_type": "stream",
     "text": [
      "192.168.1.10\n"
     ]
    }
   ],
   "source": [
    "!ipconfig getifaddr en0\n",
    "\n",
    "# 192.168.16.192"
   ]
  },
  {
   "cell_type": "markdown",
   "metadata": {},
   "source": [
    "> This displays our connection to the network."
   ]
  },
  {
   "cell_type": "markdown",
   "metadata": {},
   "source": [
    "Finally add a `\\32` to the end of the ip address.  This specifies that only this particular connection on the network can access the EC2 machine."
   ]
  },
  {
   "cell_type": "markdown",
   "metadata": {},
   "source": [
    "For example, `192.168.16.192\\32`."
   ]
  },
  {
   "cell_type": "markdown",
   "metadata": {},
   "source": [
    "<img src=\"./ssh-ip-address-1.png\" width=\"100%\"/> "
   ]
  },
  {
   "cell_type": "markdown",
   "metadata": {},
   "source": [
    "If we were to append `\\26` to the end of the ip address, this would allow anyone on the network to connect to the machine, which would be useful if say we would wanted to allow anyone in on a company network to have access.\n",
    "\n",
    "Notice that if you place a `\\0` at the end of any ip address, this automatically allow any ip address to access it, so AWS will switch your ip address to `0.0.0.0\\0` if that `\\0` is present. "
   ]
  }
 ],
 "metadata": {
  "kernelspec": {
   "display_name": "Python 3",
   "language": "python",
   "name": "python3"
  },
  "language_info": {
   "codemirror_mode": {
    "name": "ipython",
    "version": 3
   },
   "file_extension": ".py",
   "mimetype": "text/x-python",
   "name": "python",
   "nbconvert_exporter": "python",
   "pygments_lexer": "ipython3",
   "version": "3.8.3"
  }
 },
 "nbformat": 4,
 "nbformat_minor": 4
}
